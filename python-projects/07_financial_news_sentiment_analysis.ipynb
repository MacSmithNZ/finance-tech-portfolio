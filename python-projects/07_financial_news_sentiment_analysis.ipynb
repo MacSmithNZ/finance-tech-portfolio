{
 "cells": [
  {
   "cell_type": "markdown",
   "id": "9ecade25",
   "metadata": {},
   "source": [
    "# Financial News Sentiment Analysis\n",
    "\n",
    "**Goal:** Combine finance with NLP.\\\n",
    "**Skills Learned:** NLTK, TextBlob, or transformers.\\\n",
    "**Ideas:**\n",
    "- Collect financial news headlines for a stock.\n",
    "- Analyze sentiment (positive, negative, neutral) and see if sentiment predicts short-term stock moves.\n",
    "- Visualize trends over time."
   ]
  }
 ],
 "metadata": {
  "language_info": {
   "name": "python"
  }
 },
 "nbformat": 4,
 "nbformat_minor": 5
}
