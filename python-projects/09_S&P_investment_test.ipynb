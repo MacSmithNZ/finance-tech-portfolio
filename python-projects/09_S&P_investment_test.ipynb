{
 "cells": [
  {
   "cell_type": "markdown",
   "id": "eb9be45e",
   "metadata": {},
   "source": [
    "# $100 S&P500 investment test\n",
    "\n",
    "Suppose you are an investor with $100 in 2005. Write a python program that calculates the total return (including dividends) if you invested this money into the S&P500. If you could erase any continuous 11 calendar day period from this history in order to get the best returns, what would your new total return be?"
   ]
  },
  {
   "cell_type": "code",
   "execution_count": 40,
   "id": "d10bfc67",
   "metadata": {},
   "outputs": [
    {
     "name": "stdout",
     "output_type": "stream",
     "text": [
      "Original total return: $529.93\n",
      "New total return after erasing worst period: $712.59\n"
     ]
    }
   ],
   "source": [
    "import yfinance as yf\n",
    "\n",
    "def remove_worst_n_day_period(df, sv=100, n=11):\n",
    "    \"\"\"\n",
    "    Remove the worst consecutive n-day period from a price history and recalculate portfolio value.\n",
    "\n",
    "    Parameters:\n",
    "        df (DataFrame): Price history with 'Close' column.\n",
    "        sv (float): Starting value of investment (default $100).\n",
    "        n (int): Number of consecutive days to remove (default 11).\n",
    "\n",
    "    Returns:\n",
    "        df_filtered (DataFrame): DataFrame after removing worst period with portfolio value.\n",
    "        original_total (float): Total portfolio value without removing any days.\n",
    "        new_total (float): Total portfolio value after removing worst period.\n",
    "    \"\"\"\n",
    "    df = df.copy()\n",
    "    df[\"Daily Return\"] = df[\"Close\"].pct_change()\n",
    "    df[\"Growth Factor\"] = 1 + df[\"Daily Return\"]\n",
    "    \n",
    "    # Rolling n-day cumulative return\n",
    "    df[\"Rolling Return\"] = df[\"Growth Factor\"].rolling(window=n).apply(lambda x: x.prod() - 1, raw=True)\n",
    "    \n",
    "    # Identify worst n-day period\n",
    "    worst_end_idx = df[\"Rolling Return\"].idxmin()\n",
    "    pos = df.index.get_loc(worst_end_idx)\n",
    "    worst_period_idx = df.iloc[pos - n + 1 : pos + 1].index\n",
    "    \n",
    "    # Drop worst period\n",
    "    df_filtered = df.drop(worst_period_idx)\n",
    "    \n",
    "    # Recalculate cumulative portfolio value\n",
    "    df_filtered[\"Portfolio Value\"] = sv * (1 + df_filtered[\"Daily Return\"]).cumprod()\n",
    "    original_total = sv * (1 + df[\"Daily Return\"]).cumprod().iloc[- 1]\n",
    "    new_total = df_filtered[\"Portfolio Value\"].iloc[- 1]\n",
    "    \n",
    "    return df_filtered, original_total, new_total\n",
    "\n",
    "# Example usage\n",
    "ticker = yf.Ticker(\"^SPX\")\n",
    "hd = ticker.history(start=\"2005-01-01\", auto_adjust=True)\n",
    "\n",
    "hd_filtered, original_total, new_total = remove_worst_n_day_period(hd, sv=100, n=11)\n",
    "print(f\"Original total return: ${original_total:.2f}\")\n",
    "print(f\"New total return after erasing worst period: ${new_total:.2f}\")\n"
   ]
  }
 ],
 "metadata": {
  "kernelspec": {
   "display_name": ".conda",
   "language": "python",
   "name": "python3"
  },
  "language_info": {
   "codemirror_mode": {
    "name": "ipython",
    "version": 3
   },
   "file_extension": ".py",
   "mimetype": "text/x-python",
   "name": "python",
   "nbconvert_exporter": "python",
   "pygments_lexer": "ipython3",
   "version": "3.11.13"
  }
 },
 "nbformat": 4,
 "nbformat_minor": 5
}
