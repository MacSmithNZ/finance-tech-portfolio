{
 "cells": [
  {
   "cell_type": "markdown",
   "id": "eb9be45e",
   "metadata": {},
   "source": [
    "# $100 S&P500 investment test\n",
    "\n",
    "Suppose you are an investor with $100 in 2005. Write a python program that calculates the total return (including dividends) if you invested this money into the S&P500. If you could erase any continuous 11 calendar day period from this history in order to get the best returns, what would your new total return be?"
   ]
  },
  {
   "cell_type": "markdown",
   "id": "c5fb5153",
   "metadata": {},
   "source": [
    "## Attempt 1\n",
    "\n",
    "**Description:**\n",
    "- Identifies the single 11-day period with the lowest cumulative return and removes it.\n",
    "- Uses a rolling product of daily returns to find the worst period.\n",
    "- Recalculates portfolio value after removal.\n",
    "\n",
    "**Pros:** Simple, easy to understand, and relatively fast.\\\n",
    "**Cons:** Does not account for the timing of losses — removing an early loss vs a late loss can have different compounding effects, which this method ignores."
   ]
  },
  {
   "cell_type": "code",
   "execution_count": 43,
   "id": "d10bfc67",
   "metadata": {},
   "outputs": [
    {
     "name": "stdout",
     "output_type": "stream",
     "text": [
      "Original total return: $529.93\n",
      "New total return after erasing worst period: $712.59\n"
     ]
    }
   ],
   "source": [
    "import yfinance as yf\n",
    "\n",
    "def remove_worst_n_day_period(df, sv=100, n=11):\n",
    "    \"\"\"\n",
    "    Remove the worst consecutive n-day period from a price history and recalculate portfolio value.\n",
    "\n",
    "    Parameters:\n",
    "        df (DataFrame): Price history with 'Close' column.\n",
    "        sv (float): Starting value of investment (default $100).\n",
    "        n (int): Number of consecutive days to remove (default 11).\n",
    "\n",
    "    Returns:\n",
    "        df_filtered (DataFrame): DataFrame after removing worst period with portfolio value.\n",
    "        original_total (float): Total portfolio value without removing any days.\n",
    "        new_total (float): Total portfolio value after removing worst period.\n",
    "    \"\"\"\n",
    "    df = df.copy()\n",
    "    df[\"Daily Return\"] = df[\"Close\"].pct_change()\n",
    "    df[\"Growth Factor\"] = 1 + df[\"Daily Return\"]\n",
    "    \n",
    "    # Rolling n-day cumulative return\n",
    "    df[\"Rolling Return\"] = df[\"Growth Factor\"].rolling(window=n).apply(lambda x: x.prod() - 1, raw=True)\n",
    "    \n",
    "    # Identify worst n-day period\n",
    "    worst_end_idx = df[\"Rolling Return\"].idxmin()\n",
    "    pos = df.index.get_loc(worst_end_idx)\n",
    "    worst_period_idx = df.iloc[pos - n + 1 : pos + 1].index\n",
    "    \n",
    "    # Drop worst period\n",
    "    df_filtered = df.drop(worst_period_idx)\n",
    "    \n",
    "    # Recalculate cumulative portfolio value\n",
    "    df_filtered[\"Portfolio Value\"] = sv * (1 + df_filtered[\"Daily Return\"]).cumprod()\n",
    "    original_total = sv * (1 + df[\"Daily Return\"]).cumprod().iloc[- 1]\n",
    "    new_total = df_filtered[\"Portfolio Value\"].iloc[- 1]\n",
    "    \n",
    "    return df_filtered, original_total, new_total\n",
    "\n",
    "# Example usage\n",
    "ticker = yf.Ticker(\"^SPX\")\n",
    "hd = ticker.history(start=\"2005-01-01\", auto_adjust=True)\n",
    "\n",
    "hd_filtered, original_total, new_total = remove_worst_n_day_period(hd, sv=100, n=11)\n",
    "print(f\"Original total return: ${original_total:.2f}\")\n",
    "print(f\"New total return after erasing worst period: ${new_total:.2f}\")\n"
   ]
  },
  {
   "cell_type": "markdown",
   "id": "7d7ccf54",
   "metadata": {},
   "source": [
    "## Attempt 2\n",
    "\n",
    "**Description:**\n",
    "- Iterates through every possible 11-day block, removes it temporarily, and calculates the final portfolio value to determine which block maximises wealth.\n",
    "- Fully accounts for compounding, because the effect of each block on the final portfolio is measured directly.\n",
    "\n",
    "**Pros:** Accurate — properly handles timing and compounding.\\\n",
    "**Cons:** Slower, because it repeatedly calculates cumulative portfolio values for almost the entire dataset for each block."
   ]
  },
  {
   "cell_type": "code",
   "execution_count": 41,
   "id": "ed02ee28",
   "metadata": {},
   "outputs": [
    {
     "name": "stdout",
     "output_type": "stream",
     "text": [
      "Original total return: $529.93\n",
      "New total return after erasing worst period: $712.59\n"
     ]
    }
   ],
   "source": [
    "def remove_worst_n_day_period(df, sv=100, n=11):\n",
    "    \"\"\"\n",
    "    Remove the worst consecutive n-day period from a price history and recalculate portfolio value.\n",
    "\n",
    "    Parameters:\n",
    "        df (DataFrame): Price history with 'Close' column.\n",
    "        sv (float): Starting value of investment (default $100).\n",
    "        n (int): Number of consecutive days to remove (default 11).\n",
    "\n",
    "    Returns:\n",
    "        df_filtered (DataFrame): DataFrame after removing worst period with portfolio value.\n",
    "        original_total (float): Total portfolio value without removing any days.\n",
    "        new_total (float): Total portfolio value after removing worst period.\n",
    "    \"\"\"\n",
    "    df = df.copy()\n",
    "    df[\"Daily Return\"] = df[\"Close\"].pct_change()\n",
    "    df = df.dropna()  # drop first NaN\n",
    "\n",
    "    best_final_value = 0\n",
    "    best_block_idx = None\n",
    "\n",
    "    # Convert index to integer positions for easy slicing\n",
    "    total_days = len(df)\n",
    "    \n",
    "    for start in range(0, total_days - n + 1):\n",
    "        end = start + n\n",
    "        temp_df = df.drop(df.index[start:end])\n",
    "        temp_portfolio = sv * (1 + temp_df[\"Daily Return\"]).cumprod().iloc[-1]\n",
    "        \n",
    "        if temp_portfolio > best_final_value:\n",
    "            best_final_value = temp_portfolio\n",
    "            best_block_idx = df.index[start:end]\n",
    "\n",
    "    # Remove the worst block permanently\n",
    "    df_filtered = df.drop(best_block_idx)\n",
    "    df_filtered[\"Portfolio Value\"] = sv * (1 + df_filtered[\"Daily Return\"]).cumprod()\n",
    "    \n",
    "    # Original portfolio value\n",
    "    original_total = sv * (1 + df[\"Daily Return\"]).cumprod().iloc[-1]\n",
    "    new_total = df_filtered[\"Portfolio Value\"].iloc[-1]\n",
    "    \n",
    "    return df_filtered, original_total, new_total\n",
    "\n",
    "# Example usage\n",
    "ticker = yf.Ticker(\"^SPX\")\n",
    "hd = ticker.history(start=\"2005-01-01\", auto_adjust=True)\n",
    "\n",
    "hd_filtered, original_total, new_total = remove_worst_n_day_period(hd, sv=100, n=11)\n",
    "print(f\"Original total return: ${original_total:.2f}\")\n",
    "print(f\"New total return after erasing worst period: ${new_total:.2f}\")"
   ]
  },
  {
   "cell_type": "markdown",
   "id": "2abe3c68",
   "metadata": {},
   "source": [
    "## Attempt 3\n",
    "\n",
    "**Description:**\n",
    "- Optimises Attempt 2 by using NumPy arrays and log returns.\n",
    "- Converts daily returns to log space so that multiplication becomes addition, allowing fast calculation of the effect of removing any 11-day block.\n",
    "- Iterates through blocks, subtracting the log-sum of each block to efficiently find the one that maximises final portfolio value.\n",
    "\n",
    "**Pros:**\n",
    "- Fully compounding-aware, like Attempt 2.\n",
    "- Much faster and more memory-efficient, suitable for long time series.\n",
    "\n",
    "**Cons:** Slightly more complex to understand due to the use of log returns and NumPy operations."
   ]
  },
  {
   "cell_type": "code",
   "execution_count": 45,
   "id": "bb0f2d01",
   "metadata": {},
   "outputs": [
    {
     "name": "stdout",
     "output_type": "stream",
     "text": [
      "Original total return: $529.93\n",
      "New total return after erasing worst 11-day block: $712.59\n",
      "Worst block removed from 2008-09-26 to 2008-10-10\n"
     ]
    }
   ],
   "source": [
    "import yfinance as yf\n",
    "import numpy as np\n",
    "\n",
    "def remove_worst_n_day_period_fast(df, sv=100, n=11):\n",
    "    \"\"\"\n",
    "    Remove the n-day period whose removal maximises final portfolio value,\n",
    "    fully accounting for compounding using NumPy for speed.\n",
    "\n",
    "    Parameters:\n",
    "        df (DataFrame): Must contain 'Close' column.\n",
    "        sv (float): Starting portfolio value.\n",
    "        n (int): Number of consecutive days to remove.\n",
    "\n",
    "    Returns:\n",
    "        df_filtered (DataFrame): DataFrame after removing worst block with portfolio value.\n",
    "        original_total (float): Portfolio value without removing any days.\n",
    "        new_total (float): Portfolio value after removing worst block.\n",
    "        worst_block_index (Index): Index of the removed block.\n",
    "    \"\"\"\n",
    "    df = df.copy()\n",
    "    df[\"Daily Return\"] = df[\"Close\"].pct_change().dropna()\n",
    "    df = df.dropna()\n",
    "    daily_log_returns = np.log1p(df[\"Daily Return\"].to_numpy())\n",
    "    \n",
    "    # Compute total log return\n",
    "    total_log_return = np.sum(daily_log_returns)\n",
    "    \n",
    "    # Compute rolling n-day sums using cumulative sum (vectorised)\n",
    "    cumsum = np.cumsum(daily_log_returns)\n",
    "    rolling_sums = cumsum[n-1:] - np.concatenate(([0], cumsum[:-n]))\n",
    "    \n",
    "    # Find the block whose removal maximises final portfolio\n",
    "    best_start = np.argmax(total_log_return - rolling_sums)\n",
    "    best_end = best_start + n\n",
    "    worst_block_index = df.index[best_start:best_end]\n",
    "\n",
    "    \n",
    "    # Remove block and recalc portfolio value\n",
    "    df_filtered = df.drop(worst_block_index)\n",
    "    df_filtered[\"Portfolio Value\"] = sv * (1 + df_filtered[\"Daily Return\"]).cumprod()\n",
    "    original_total = sv * (1 + df[\"Daily Return\"]).cumprod().iloc[-1]\n",
    "    new_total = df_filtered[\"Portfolio Value\"].iloc[-1]\n",
    "    \n",
    "    return df_filtered, original_total, new_total, worst_block_index\n",
    "\n",
    "# Example usage\n",
    "ticker = yf.Ticker(\"^SPX\")\n",
    "hd = ticker.history(start=\"2005-01-01\", auto_adjust=True)\n",
    "\n",
    "hd_filtered, original_total, new_total, removed_block = remove_worst_n_day_period_fast(\n",
    "    hd, sv=100, n=11\n",
    ")\n",
    "\n",
    "print(f\"Original total return: ${original_total:.2f}\")\n",
    "print(f\"New total return after erasing worst 11-day block: ${new_total:.2f}\")\n",
    "print(f\"Worst block removed from {removed_block[0].date()} to {removed_block[-1].date()}\")\n"
   ]
  }
 ],
 "metadata": {
  "kernelspec": {
   "display_name": ".conda",
   "language": "python",
   "name": "python3"
  },
  "language_info": {
   "codemirror_mode": {
    "name": "ipython",
    "version": 3
   },
   "file_extension": ".py",
   "mimetype": "text/x-python",
   "name": "python",
   "nbconvert_exporter": "python",
   "pygments_lexer": "ipython3",
   "version": "3.11.13"
  }
 },
 "nbformat": 4,
 "nbformat_minor": 5
}
