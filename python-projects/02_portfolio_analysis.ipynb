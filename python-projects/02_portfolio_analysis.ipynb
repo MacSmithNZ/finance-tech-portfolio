{
 "cells": [
  {
   "cell_type": "markdown",
   "id": "9ecade25",
   "metadata": {},
   "source": [
    "# Portfolio Analysis\n",
    "\n",
    "**Goal:** Understand risk, return, and diversification.\\\n",
    "**Skills Learned:** NumPy, Pandas, Matplotlib.\\\n",
    "**Ideas:**\n",
    "- Calculate portfolio returns and risk using historical data.\n",
    "- Implement the Sharpe Ratio to evaluate performance.\n",
    "- Simulate different portfolio allocations and visualise efficient frontiers."
   ]
  }
 ],
 "metadata": {
  "language_info": {
   "name": "python"
  }
 },
 "nbformat": 4,
 "nbformat_minor": 5
}
