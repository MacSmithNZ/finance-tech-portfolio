{
 "cells": [
  {
   "cell_type": "markdown",
   "id": "9ecade25",
   "metadata": {},
   "source": [
    "# Financial Statement Analysis\n",
    "\n",
    "**Goal:** Automate company performance evaluation.\\\n",
    "**Skills Learned:** Web scraping (BeautifulSoup), Excel handling (openpyxl, pandas), basic ratios.\\\n",
    "**Ideas:**\n",
    "- Scrape income statements, balance sheets, and cash flows from Yahoo Finance or EDGAR.\n",
    "- Compute ratios like ROE, current ratio, and debt-to-equity for multiple companies.\n",
    "- Visualize trends and benchmark companies against peers."
   ]
  }
 ],
 "metadata": {
  "language_info": {
   "name": "python"
  }
 },
 "nbformat": 4,
 "nbformat_minor": 5
}
