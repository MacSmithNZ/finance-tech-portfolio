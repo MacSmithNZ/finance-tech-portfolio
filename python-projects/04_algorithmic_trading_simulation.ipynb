{
 "cells": [
  {
   "cell_type": "markdown",
   "id": "9ecade25",
   "metadata": {},
   "source": [
    "# Algorithmic Trading Simulation\n",
    "\n",
    "**Goal:** Learn basic quant strategies and backtesting.\\\n",
    "**Skills Learned:** Pandas, NumPy, backtesting logic.\\\n",
    "**Ideas:**\n",
    "- Implement simple strategies like moving average crossovers or momentum strategies.\n",
    "- Backtest your strategy on historical stock data.\n",
    "- Measure performance metrics: CAGR, max drawdown, Sharpe ratio."
   ]
  }
 ],
 "metadata": {
  "language_info": {
   "name": "python"
  }
 },
 "nbformat": 4,
 "nbformat_minor": 5
}
