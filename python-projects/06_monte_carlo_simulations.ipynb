{
 "cells": [
  {
   "cell_type": "markdown",
   "id": "9ecade25",
   "metadata": {},
   "source": [
    "# Monte Carlo Simulations\n",
    "\n",
    "**Goal:** Learn probabilistic modelling in finance.\\\n",
    "**Skills Learned:** NumPy, matplotlib, probability.\\\n",
    "**Ideas:**\n",
    "- Simulate stock price paths using Geometric Brownian Motion.\n",
    "- Estimate Value at Risk (VaR) for a portfolio.\n",
    "- Price European call/put options using Monte Carlo methods."
   ]
  }
 ],
 "metadata": {
  "language_info": {
   "name": "python"
  }
 },
 "nbformat": 4,
 "nbformat_minor": 5
}
