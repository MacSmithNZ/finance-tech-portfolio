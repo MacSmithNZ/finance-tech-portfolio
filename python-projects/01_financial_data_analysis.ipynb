{
 "cells": [
  {
   "cell_type": "markdown",
   "id": "9ecade25",
   "metadata": {},
   "source": [
    "# Financial Data Analysis\n",
    "\n",
    "**Goal:** Get comfortable with data manipulation and visualization.\\\n",
    "**Skills Learned:** Pandas, Matplotlib, Seaborn, data cleaning.\\\n",
    "**Ideas:**\n",
    "- Import historical stock prices (using yfinance) and compute returns, moving averages, and volatility.\n",
    "- Compare multiple stocks’ performance over time.\n",
    "- Calculate correlation between different assets.\n",
    "\n",
    "## Import historical stock prices"
   ]
  },
  {
   "cell_type": "code",
   "execution_count": null,
   "id": "83848293",
   "metadata": {},
   "outputs": [],
   "source": [
    "import yfinance as yf\n"
   ]
  }
 ],
 "metadata": {
  "language_info": {
   "name": "python"
  }
 },
 "nbformat": 4,
 "nbformat_minor": 5
}
