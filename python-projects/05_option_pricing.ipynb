{
 "cells": [
  {
   "cell_type": "markdown",
   "id": "9ecade25",
   "metadata": {},
   "source": [
    "# Options Pricing\n",
    "\n",
    "**Goal:** Apply Python to derivatives.\\\n",
    "**Skills Learned:** SciPy, NumPy, mathematical modeling.\\\n",
    "**Ideas:**\n",
    "- Implement the Black-Scholes model to price options.\n",
    "- Calculate Greeks (delta, gamma, theta, vega).\n",
    "- Compare model prices to real market data."
   ]
  }
 ],
 "metadata": {
  "language_info": {
   "name": "python"
  }
 },
 "nbformat": 4,
 "nbformat_minor": 5
}
